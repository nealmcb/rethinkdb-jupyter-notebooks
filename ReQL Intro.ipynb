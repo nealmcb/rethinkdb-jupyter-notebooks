{
 "cells": [
  {
   "cell_type": "markdown",
   "metadata": {},
   "source": [
    "# Introduction to the RethinkDB Query Language\n",
    "\n",
    "The RethinkDB Query Language (ReQL) embeds itself in the programming language that you use to build your application. ReQL is designed as a fluent API, a set of functions that you can chain together to compose queries. Before we build an application, let's start by exploring the query language. \n",
    "\n",
    "By default, RethinkDB creates a database named `test`. Let's add a table to the `test` database:"
   ]
  },
  {
   "cell_type": "code",
   "execution_count": 2,
   "metadata": {
    "collapsed": true
   },
   "outputs": [
    {
     "name": "stdout",
     "output_type": "stream",
     "text": [
      "{\n",
      "    \u001b[38;5;28;01m\"tables_created\"\u001b[39;00m: \u001b[38;5;241m1\u001b[39m, \n",
      "    \u001b[38;5;28;01m\"config_changes\"\u001b[39;00m: [\n",
      "        {\n",
      "            \u001b[38;5;28;01m\"old_val\"\u001b[39;00m: \u001b[38;5;28;01mnull\u001b[39;00m, \n",
      "            \u001b[38;5;28;01m\"new_val\"\u001b[39;00m: {\n",
      "                \u001b[38;5;28;01m\"primary_key\"\u001b[39;00m: \u001b[38;5;124m\"id\"\u001b[39m, \n",
      "                \u001b[38;5;28;01m\"durability\"\u001b[39;00m: \u001b[38;5;124m\"hard\"\u001b[39m, \n",
      "                \u001b[38;5;28;01m\"db\"\u001b[39;00m: \u001b[38;5;124m\"test\"\u001b[39m, \n",
      "                \u001b[38;5;28;01m\"shards\"\u001b[39;00m: [\n",
      "                    {\n",
      "                        \u001b[38;5;28;01m\"primary_replica\"\u001b[39;00m: \u001b[38;5;124m\"c77cc04d96c0_6gt\"\u001b[39m, \n",
      "                        \u001b[38;5;28;01m\"replicas\"\u001b[39;00m: [\n",
      "                            \u001b[38;5;124m\"c77cc04d96c0_6gt\"\u001b[39m\n",
      "                        ]\n",
      "                    }\n",
      "                ], \n",
      "                \u001b[38;5;28;01m\"write_acks\"\u001b[39;00m: \u001b[38;5;124m\"majority\"\u001b[39m, \n",
      "                \u001b[38;5;28;01m\"id\"\u001b[39;00m: \u001b[38;5;124m\"cd45710e-04fe-4479-a036-0249343d177c\"\u001b[39m, \n",
      "                \u001b[38;5;28;01m\"name\"\u001b[39;00m: \u001b[38;5;124m\"fellowship\"\u001b[39m\n",
      "            }\n",
      "        }\n",
      "    ]\n",
      "}\n",
      "\n"
     ]
    }
   ],
   "source": [
    "%r r.db(\"test\").table_create(\"fellowship\")"
   ]
  },
  {
   "cell_type": "markdown",
   "metadata": {},
   "source": [
    "Now, let's add a set of nine JSON documents to the table:"
   ]
  },
  {
   "cell_type": "code",
   "execution_count": 21,
   "metadata": {
    "collapsed": false
   },
   "outputs": [
    {
     "name": "stdout",
     "output_type": "stream",
     "text": [
      "{\n",
      "    \u001b[38;5;28;01m\"errors\"\u001b[39;00m: \u001b[38;5;241m0\u001b[39m, \n",
      "    \u001b[38;5;28;01m\"deleted\"\u001b[39;00m: \u001b[38;5;241m0\u001b[39m, \n",
      "    \u001b[38;5;28;01m\"generated_keys\"\u001b[39;00m: [\n",
      "        \u001b[38;5;124m\"ccf89b51-b3e1-45c5-b59f-a396da284aef\"\u001b[39m, \n",
      "        \u001b[38;5;124m\"907a9b8f-6cff-4090-a6b1-7abcc2612953\"\u001b[39m, \n",
      "        \u001b[38;5;124m\"449fa0c7-5520-4fd3-9c51-b2a2838d0145\"\u001b[39m, \n",
      "        \u001b[38;5;124m\"c4f7915f-d738-4272-aa9a-d9a86b8402c2\"\u001b[39m, \n",
      "        \u001b[38;5;124m\"bed70904-464d-4c86-b804-1517de25be83\"\u001b[39m, \n",
      "        \u001b[38;5;124m\"7da3a2c8-e1b6-4b69-abb8-5b20b6a05ee7\"\u001b[39m, \n",
      "        \u001b[38;5;124m\"1c686a95-bbf3-4bbf-bdcb-bf27d1467bef\"\u001b[39m, \n",
      "        \u001b[38;5;124m\"4d5c3f69-811a-4460-964f-2c7db13d13c8\"\u001b[39m, \n",
      "        \u001b[38;5;124m\"850f30a8-764c-40f6-8390-03d7bd01cca4\"\u001b[39m\n",
      "    ], \n",
      "    \u001b[38;5;28;01m\"unchanged\"\u001b[39;00m: \u001b[38;5;241m0\u001b[39m, \n",
      "    \u001b[38;5;28;01m\"skipped\"\u001b[39;00m: \u001b[38;5;241m0\u001b[39m, \n",
      "    \u001b[38;5;28;01m\"replaced\"\u001b[39;00m: \u001b[38;5;241m0\u001b[39m, \n",
      "    \u001b[38;5;28;01m\"inserted\"\u001b[39;00m: \u001b[38;5;241m9\u001b[39m\n",
      "}\n",
      "\n"
     ]
    }
   ],
   "source": [
    "%r r.table(\"fellowship\").insert([ \\\n",
    "{ \"name\": \"Frodo\", \"species\": \"hobbit\" }, \\\n",
    "{ \"name\": \"Sam\", \"species\": \"hobbit\" }, \\\n",
    "{ \"name\": \"Merry\", \"species\": \"hobbit\" }, \\\n",
    "{ \"name\": \"Pippin\", \"species\": \"hobbit\" }, \\\n",
    "{ \"name\": \"Gandalf\", \"species\": \"istar\" }, \\\n",
    "{ \"name\": \"Legolas\", \"species\": \"elf\" }, \\\n",
    "{ \"name\": \"Gimili\", \"species\": \"dwarf\" }, \\\n",
    "{ \"name\": \"Aragorn\", \"species\": \"human\" }, \\\n",
    "{ \"name\": \"Boromir\", \"species\": \"human\" }])"
   ]
  },
  {
   "cell_type": "markdown",
   "metadata": {},
   "source": [
    "When you run the command above, the database will output an array with the primary keys that it generated for all of the new documents. It will also tell you how many new records it successfully inserted. Now that we have some records in the database, let's try using ReQL's `filter` command to fetch the fellowship's hobbits:"
   ]
  },
  {
   "cell_type": "code",
   "execution_count": 23,
   "metadata": {
    "collapsed": false
   },
   "outputs": [
    {
     "name": "stdout",
     "output_type": "stream",
     "text": [
      "[\n",
      "    {\n",
      "        \u001b[38;5;28;01m\"species\"\u001b[39;00m: \u001b[38;5;124m\"hobbit\"\u001b[39m, \n",
      "        \u001b[38;5;28;01m\"id\"\u001b[39;00m: \u001b[38;5;124m\"ccf89b51-b3e1-45c5-b59f-a396da284aef\"\u001b[39m, \n",
      "        \u001b[38;5;28;01m\"name\"\u001b[39;00m: \u001b[38;5;124m\"Frodo\"\u001b[39m\n",
      "    }, \n",
      "    {\n",
      "        \u001b[38;5;28;01m\"species\"\u001b[39;00m: \u001b[38;5;124m\"hobbit\"\u001b[39m, \n",
      "        \u001b[38;5;28;01m\"id\"\u001b[39;00m: \u001b[38;5;124m\"907a9b8f-6cff-4090-a6b1-7abcc2612953\"\u001b[39m, \n",
      "        \u001b[38;5;28;01m\"name\"\u001b[39;00m: \u001b[38;5;124m\"Sam\"\u001b[39m\n",
      "    }, \n",
      "    {\n",
      "        \u001b[38;5;28;01m\"species\"\u001b[39;00m: \u001b[38;5;124m\"hobbit\"\u001b[39m, \n",
      "        \u001b[38;5;28;01m\"id\"\u001b[39;00m: \u001b[38;5;124m\"449fa0c7-5520-4fd3-9c51-b2a2838d0145\"\u001b[39m, \n",
      "        \u001b[38;5;28;01m\"name\"\u001b[39;00m: \u001b[38;5;124m\"Merry\"\u001b[39m\n",
      "    }, \n",
      "    {\n",
      "        \u001b[38;5;28;01m\"species\"\u001b[39;00m: \u001b[38;5;124m\"hobbit\"\u001b[39m, \n",
      "        \u001b[38;5;28;01m\"id\"\u001b[39;00m: \u001b[38;5;124m\"c4f7915f-d738-4272-aa9a-d9a86b8402c2\"\u001b[39m, \n",
      "        \u001b[38;5;28;01m\"name\"\u001b[39;00m: \u001b[38;5;124m\"Pippin\"\u001b[39m\n",
      "    }\n",
      "]\n",
      "\n"
     ]
    }
   ],
   "source": [
    "%r r.table(\"fellowship\").filter({\"species\": \"hobbit\"})"
   ]
  },
  {
   "cell_type": "markdown",
   "metadata": {},
   "source": [
    "The `filter` command retrieves the documents that match the provided boolean expression. In this case, we specifically want documents in which the `species` property is equal to hobbit. You can chain additional commands to the query if you want to perform more operations. For example, you can use the following query to change the value of the `species` property for all hobbits:"
   ]
  },
  {
   "cell_type": "code",
   "execution_count": 28,
   "metadata": {
    "collapsed": false
   },
   "outputs": [
    {
     "name": "stdout",
     "output_type": "stream",
     "text": [
      "{\n",
      "    \u001b[38;5;28;01m\"skipped\"\u001b[39;00m: \u001b[38;5;241m0\u001b[39m, \n",
      "    \u001b[38;5;28;01m\"deleted\"\u001b[39;00m: \u001b[38;5;241m0\u001b[39m, \n",
      "    \u001b[38;5;28;01m\"unchanged\"\u001b[39;00m: \u001b[38;5;241m0\u001b[39m, \n",
      "    \u001b[38;5;28;01m\"errors\"\u001b[39;00m: \u001b[38;5;241m0\u001b[39m, \n",
      "    \u001b[38;5;28;01m\"replaced\"\u001b[39;00m: \u001b[38;5;241m4\u001b[39m, \n",
      "    \u001b[38;5;28;01m\"inserted\"\u001b[39;00m: \u001b[38;5;241m0\u001b[39m\n",
      "}\n",
      "\n"
     ]
    }
   ],
   "source": [
    "%r r.table(\"fellowship\").filter({\"species\": \"hobbit\"}) \\\n",
    "                        .update({\"species\": \"halfling\"})"
   ]
  },
  {
   "cell_type": "markdown",
   "metadata": {},
   "source": [
    "To selectively remove records from the table, you could use the `delete` command after a `filter` operation. Let's say, for example, that you want to remove Boromir from the fellowship after he is slain by Orcs:"
   ]
  },
  {
   "cell_type": "code",
   "execution_count": 29,
   "metadata": {
    "collapsed": false
   },
   "outputs": [
    {
     "name": "stdout",
     "output_type": "stream",
     "text": [
      "{\n",
      "    \u001b[38;5;28;01m\"skipped\"\u001b[39;00m: \u001b[38;5;241m0\u001b[39m, \n",
      "    \u001b[38;5;28;01m\"deleted\"\u001b[39;00m: \u001b[38;5;241m1\u001b[39m, \n",
      "    \u001b[38;5;28;01m\"unchanged\"\u001b[39;00m: \u001b[38;5;241m0\u001b[39m, \n",
      "    \u001b[38;5;28;01m\"errors\"\u001b[39;00m: \u001b[38;5;241m0\u001b[39m, \n",
      "    \u001b[38;5;28;01m\"replaced\"\u001b[39;00m: \u001b[38;5;241m0\u001b[39m, \n",
      "    \u001b[38;5;28;01m\"inserted\"\u001b[39;00m: \u001b[38;5;241m0\u001b[39m\n",
      "}\n",
      "\n"
     ]
    }
   ],
   "source": [
    "%r r.table(\"fellowship\").filter({\"name\": \"Boromir\"}).delete()"
   ]
  },
  {
   "cell_type": "markdown",
   "metadata": {},
   "source": [
    "The `group` command offers a way to combine documents that share the same value on a given property. For example, if we wanted to know how many members of the fellowship correspond with each species, we can use the following ReQL query:"
   ]
  },
  {
   "cell_type": "code",
   "execution_count": 30,
   "metadata": {
    "collapsed": false
   },
   "outputs": [
    {
     "name": "stdout",
     "output_type": "stream",
     "text": [
      "{\n",
      "    \u001b[38;5;28;01m\"istar\"\u001b[39;00m: \u001b[38;5;241m1\u001b[39m, \n",
      "    \u001b[38;5;28;01m\"halfling\"\u001b[39;00m: \u001b[38;5;241m4\u001b[39m, \n",
      "    \u001b[38;5;28;01m\"elf\"\u001b[39;00m: \u001b[38;5;241m1\u001b[39m, \n",
      "    \u001b[38;5;28;01m\"dwarf\"\u001b[39;00m: \u001b[38;5;241m1\u001b[39m, \n",
      "    \u001b[38;5;28;01m\"human\"\u001b[39;00m: \u001b[38;5;241m1\u001b[39m\n",
      "}\n",
      "\n"
     ]
    }
   ],
   "source": [
    "%r r.table(\"fellowship\").group(\"species\").count()"
   ]
  },
  {
   "cell_type": "markdown",
   "metadata": {},
   "source": [
    "Commands chained after `group` will operate on the contents of the group rather than the entire stream. Consequently, the `count` command in the example above returns the number of items in each group. If you want to perform an operation on the total output rather than the individual groups, you can use the `ungroup` command. For example, we could use the following query if we wanted to know how many total species participated in the fellowship:"
   ]
  },
  {
   "cell_type": "code",
   "execution_count": 31,
   "metadata": {
    "collapsed": false
   },
   "outputs": [
    {
     "name": "stdout",
     "output_type": "stream",
     "text": [
      "\u001b[38;5;241m5\u001b[39m\n",
      "\n"
     ]
    }
   ],
   "source": [
    "%r r.table(\"fellowship\").group(\"species\").ungroup().count()"
   ]
  },
  {
   "cell_type": "markdown",
   "metadata": {},
   "source": [
    "ReQL has a wide range of other commands. It even has a built-in `http` command that you can use to fetch data from public web APIs. In the following example, we use the `http` command to fetch the current posts from a popular subreddit. The full query retrieves the posts, orders them by score, and then displays several properties from the top three entries:"
   ]
  },
  {
   "cell_type": "code",
   "execution_count": 34,
   "metadata": {
    "collapsed": false
   },
   "outputs": [
    {
     "name": "stdout",
     "output_type": "stream",
     "text": [
      "[\n",
      "    {\n",
      "        \u001b[38;5;28;01m\"url\"\u001b[39;00m: \u001b[38;5;124m\"http://i.imgur.com/daXYEqq.jpg\"\u001b[39m, \n",
      "        \u001b[38;5;28;01m\"score\"\u001b[39;00m: \u001b[38;5;241m4974\u001b[39m, \n",
      "        \u001b[38;5;28;01m\"title\"\u001b[39;00m: \u001b[38;5;124m\"The second male calico the vet has seen in over 54 years of practice.\"\u001b[39m\n",
      "    }, \n",
      "    {\n",
      "        \u001b[38;5;28;01m\"url\"\u001b[39;00m: \u001b[38;5;124m\"http://imgur.com/87xUo9g\"\u001b[39m, \n",
      "        \u001b[38;5;28;01m\"score\"\u001b[39;00m: \u001b[38;5;241m4864\u001b[39m, \n",
      "        \u001b[38;5;28;01m\"title\"\u001b[39;00m: \u001b[38;5;124m\"Are we there yet\"\u001b[39m\n",
      "    }, \n",
      "    {\n",
      "        \u001b[38;5;28;01m\"url\"\u001b[39;00m: \u001b[38;5;124m\"http://i.imgur.com/htZeGHn.jpg\"\u001b[39m, \n",
      "        \u001b[38;5;28;01m\"score\"\u001b[39;00m: \u001b[38;5;241m4753\u001b[39m, \n",
      "        \u001b[38;5;28;01m\"title\"\u001b[39;00m: \u001b[38;5;124m\"Selby likes to be in control.\"\u001b[39m\n",
      "    }\n",
      "]\n",
      "\n"
     ]
    }
   ],
   "source": [
    "%r r.http(\"http://www.reddit.com/r/aww.json\")[\"data\"][\"children\"][\"data\"] \\\n",
    "    .order_by(r.desc(\"score\")).limit(3).pluck(\"score\", \"title\", \"url\")"
   ]
  },
  {
   "cell_type": "markdown",
   "metadata": {},
   "source": [
    "As you can see, ReQL is very useful for many kinds of ad hoc data analysis. You can use it to slice and dice complex JSON data structures in a number of interesting ways. If you'd like to learn more about ReQL, you can refer to the [API reference documentation](http://rethinkdb.com/api/python/), the [ReQL introduction](http://rethinkdb.com/docs/introduction-to-reql/) on the RethinkDB website, or the [RethinkDB cookbook](http://rethinkdb.com/docs/cookbook/python/)."
   ]
  }
 ],
 "metadata": {
  "kernelspec": {
   "display_name": "Python 2",
   "language": "python",
   "name": "python2"
  },
  "language_info": {
   "codemirror_mode": {
    "name": "ipython",
    "version": 2
   },
   "file_extension": ".py",
   "mimetype": "text/x-python",
   "name": "python",
   "nbconvert_exporter": "python",
   "pygments_lexer": "ipython2",
   "version": "2.7.6"
  }
 },
 "nbformat": 4,
 "nbformat_minor": 0
}
