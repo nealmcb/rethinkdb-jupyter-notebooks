{
 "cells": [
  {
   "cell_type": "code",
   "execution_count": 1,
   "metadata": {
    "collapsed": false
   },
   "outputs": [
    {
     "name": "stdout",
     "output_type": "stream",
     "text": [
      "/usr/local/lib/python2.7/dist-packages/pip/_vendor/requests/packages/urllib3/util/ssl_.py:90: InsecurePlatformWarning: A true SSLContext object is not available. This prevents urllib3 from configuring SSL appropriately and may cause certain SSL connections to fail. For more information, see https://urllib3.readthedocs.org/en/latest/security.html#insecureplatformwarning.\n",
      "  InsecurePlatformWarning\n",
      "Collecting rethinkdb\n",
      "/usr/local/lib/python2.7/dist-packages/pip/_vendor/requests/packages/urllib3/util/ssl_.py:90: InsecurePlatformWarning: A true SSLContext object is not available. This prevents urllib3 from configuring SSL appropriately and may cause certain SSL connections to fail. For more information, see https://urllib3.readthedocs.org/en/latest/security.html#insecureplatformwarning.\n",
      "  InsecurePlatformWarning\n",
      "  Downloading rethinkdb-2.0.0-2.tar.gz (93kB)\n",
      "\u001b[K    100% |████████████████████████████████| 94kB 1.6MB/s \n",
      "\u001b[?25hBuilding wheels for collected packages: rethinkdb\n",
      "  Running setup.py bdist_wheel for rethinkdb\n",
      "  Stored in directory: /root/.cache/pip/wheels/72/2e/ab/cafc1bb6ef548484c6e9daf1ce7b989d8f6582b9909777a774\n",
      "Successfully built rethinkdb\n",
      "Installing collected packages: rethinkdb\n",
      "Successfully installed rethinkdb-2.0.0.post2\n"
     ]
    }
   ],
   "source": [
    "!pip install rethinkdb"
   ]
  },
  {
   "cell_type": "code",
   "execution_count": 2,
   "metadata": {
    "collapsed": false
   },
   "outputs": [
    {
     "name": "stdout",
     "output_type": "stream",
     "text": [
      "Reading package lists... Done\n",
      "Building dependency tree       \n",
      "Reading state information... Done\n",
      "Note, selecting 'libpng12-dev' instead of 'libpng-dev'\n",
      "The following NEW packages will be installed:\n",
      "  libpng12-dev\n",
      "0 upgraded, 1 newly installed, 0 to remove and 5 not upgraded.\n",
      "Need to get 206 kB of archives.\n",
      "After this operation, 671 kB of additional disk space will be used.\n",
      "Get:1 http://archive.ubuntu.com/ubuntu/ trusty/main libpng12-dev amd64 1.2.50-1ubuntu2 [206 kB]\n",
      "Fetched 206 kB in 0s (224 kB/s)\n",
      "Selecting previously unselected package libpng12-dev.\n",
      "(Reading database ... 26613 files and directories currently installed.)\n",
      "Preparing to unpack .../libpng12-dev_1.2.50-1ubuntu2_amd64.deb ...\n",
      "Unpacking libpng12-dev (1.2.50-1ubuntu2) ...\n",
      "Setting up libpng12-dev (1.2.50-1ubuntu2) ...\n"
     ]
    }
   ],
   "source": [
    "!apt-get install libpng-dev"
   ]
  },
  {
   "cell_type": "code",
   "execution_count": 3,
   "metadata": {
    "collapsed": false
   },
   "outputs": [
    {
     "name": "stdout",
     "output_type": "stream",
     "text": [
      "Reading package lists... Done\n",
      "Building dependency tree       \n",
      "Reading state information... Done\n",
      "The following NEW packages will be installed:\n",
      "  libfreetype6-dev\n",
      "0 upgraded, 1 newly installed, 0 to remove and 5 not upgraded.\n",
      "Need to get 621 kB of archives.\n",
      "After this operation, 3,598 kB of additional disk space will be used.\n",
      "Get:1 http://archive.ubuntu.com/ubuntu/ trusty-updates/main libfreetype6-dev amd64 2.5.2-1ubuntu2.4 [621 kB]\n",
      "Fetched 621 kB in 1s (386 kB/s)\n",
      "Selecting previously unselected package libfreetype6-dev.\n",
      "(Reading database ... 26638 files and directories currently installed.)\n",
      "Preparing to unpack .../libfreetype6-dev_2.5.2-1ubuntu2.4_amd64.deb ...\n",
      "Unpacking libfreetype6-dev (2.5.2-1ubuntu2.4) ...\n",
      "Setting up libfreetype6-dev (2.5.2-1ubuntu2.4) ...\n"
     ]
    }
   ],
   "source": [
    "!apt-get install libfreetype6-dev"
   ]
  },
  {
   "cell_type": "code",
   "execution_count": null,
   "metadata": {
    "collapsed": false
   },
   "outputs": [
    {
     "name": "stdout",
     "output_type": "stream",
     "text": [
      "Collecting matplotlib\n",
      "/usr/local/lib/python2.7/dist-packages/pip/_vendor/requests/packages/urllib3/util/ssl_.py:90: InsecurePlatformWarning: A true SSLContext object is not available. This prevents urllib3 from configuring SSL appropriately and may cause certain SSL connections to fail. For more information, see https://urllib3.readthedocs.org/en/latest/security.html#insecureplatformwarning.\n",
      "  InsecurePlatformWarning\n",
      "  Downloading matplotlib-1.4.3.tar.gz (50.4MB)\n",
      "\u001b[K    100% |████████████████████████████████| 50.4MB 12kB/s \n",
      "\u001b[?25h"
     ]
    }
   ],
   "source": [
    "!pip install matplotlib"
   ]
  },
  {
   "cell_type": "code",
   "execution_count": 1,
   "metadata": {
    "collapsed": false
   },
   "outputs": [
    {
     "name": "stdout",
     "output_type": "stream",
     "text": [
      "Collecting mplleaflet\n",
      "/usr/local/lib/python2.7/dist-packages/pip/_vendor/requests/packages/urllib3/util/ssl_.py:90: InsecurePlatformWarning: A true SSLContext object is not available. This prevents urllib3 from configuring SSL appropriately and may cause certain SSL connections to fail. For more information, see https://urllib3.readthedocs.org/en/latest/security.html#insecureplatformwarning.\n",
      "  InsecurePlatformWarning\n",
      "  Downloading mplleaflet-0.0.2.tar.gz\n",
      "Requirement already satisfied (use --upgrade to upgrade): jinja2 in /usr/lib/python2.7/dist-packages (from mplleaflet)\n",
      "Requirement already satisfied (use --upgrade to upgrade): markupsafe in /usr/lib/python2.7/dist-packages (from jinja2->mplleaflet)\n",
      "Building wheels for collected packages: mplleaflet\n",
      "  Running setup.py bdist_wheel for mplleaflet\n",
      "  Stored in directory: /root/.cache/pip/wheels/6d/c8/69/04310b67d56622de1d471296924839de7cb588b009c7bc6533\n",
      "Successfully built mplleaflet\n",
      "Installing collected packages: mplleaflet\n",
      "Successfully installed mplleaflet-0.0.2\n"
     ]
    }
   ],
   "source": [
    "!pip install mplleaflet"
   ]
  },
  {
   "cell_type": "code",
   "execution_count": 1,
   "metadata": {
    "collapsed": false
   },
   "outputs": [
    {
     "name": "stdout",
     "output_type": "stream",
     "text": [
      "Writing /root/.ipython/profile_default/startup/rdb-extension.py\n"
     ]
    }
   ],
   "source": [
    "%%file ~/.ipython/profile_default/startup/rdb-extension.py\n",
    "\n",
    "\n",
    "from IPython.core.magic import register_line_magic\n",
    "\n",
    "def to_pretty_json(data):\n",
    "    from pygments import highlight\n",
    "    from pygments.lexers import get_lexer_by_name\n",
    "    from pygments.styles import get_style_by_name\n",
    "    from pygments.formatters import Terminal256Formatter\n",
    "    import json\n",
    "\n",
    "    content = json.dumps(data, indent=4)\n",
    "    lexer = get_lexer_by_name(\"json\", stripall=True)\n",
    "    result = highlight(content, lexer, Terminal256Formatter(style=\"default\"))\n",
    "\n",
    "    return result\n",
    "\n",
    "@register_line_magic\n",
    "def r(line):\n",
    "    import os\n",
    "    import rethinkdb as r\n",
    "    \n",
    "    dbhost = os.environ.get(\"RETHINKDB_PORT_28015_TCP_ADDR\", \"localhost\")\n",
    "    dbport = os.environ.get(\"RETHINKDB_PORT_28015_TCP_PORT\", 28015)\n",
    "    \n",
    "    conn = r.connect(host=dbhost, port=dbport)\n",
    "    response = eval(line).run(conn)\n",
    "\n",
    "    if \".changes()\" in line:\n",
    "        try:\n",
    "            for doc in response:\n",
    "                print to_pretty_json(doc)\n",
    "        except:\n",
    "            print \"\\nChangefeed terminated\"\n",
    "        finally:\n",
    "            conn.close()\n",
    "    else:\n",
    "        if type(response) == r.net.DefaultCursor:\n",
    "            response = list(response)\n",
    "\n",
    "        print to_pretty_json(response)\n",
    "        conn.close()\n"
   ]
  },
  {
   "cell_type": "code",
   "execution_count": null,
   "metadata": {
    "collapsed": true
   },
   "outputs": [],
   "source": []
  }
 ],
 "metadata": {
  "kernelspec": {
   "display_name": "Python 2",
   "language": "python",
   "name": "python2"
  },
  "language_info": {
   "codemirror_mode": {
    "name": "ipython",
    "version": 2
   },
   "file_extension": ".py",
   "mimetype": "text/x-python",
   "name": "python",
   "nbconvert_exporter": "python",
   "pygments_lexer": "ipython2",
   "version": "2.7.6"
  }
 },
 "nbformat": 4,
 "nbformat_minor": 0
}
